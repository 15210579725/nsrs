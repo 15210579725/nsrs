{
 "cells": [
  {
   "cell_type": "code",
   "execution_count": 5,
   "metadata": {},
   "outputs": [],
   "source": [
    "import os\n",
    "import numpy as np\n",
    "import matplotlib.pyplot as plt\n",
    "from mpl_toolkits.axes_grid1 import AxesGrid\n",
    "plt.rcParams.update({'font.size': 18})\n",
    "\n",
    "from definitions import ROOT_DIR\n",
    "from nsrl.helper.data import DataSet"
   ]
  },
  {
   "cell_type": "code",
   "execution_count": 19,
   "metadata": {},
   "outputs": [],
   "source": [
    "root_save_path = os.path.join(ROOT_DIR, \"experiments\", \"maze\", \"runs\")\n",
    "experiment_dir = os.path.join(root_save_path, 'simple maze novelty reward with d step q planning_2019-07-12 17-02-38_1682112')\n",
    "\n",
    "to_print = [100, 200, 300, 500, 1000]\n",
    "\n",
    "dataset_fname = os.path.join(experiment_dir, f'dataset.epoch={to_print[-1]}.pkl')\n",
    "dataset = DataSet.load(dataset_fname)"
   ]
  },
  {
   "cell_type": "code",
   "execution_count": 20,
   "metadata": {},
   "outputs": [],
   "source": [
    "all_observations = dataset.observations()[0]\n",
    "input_size = dataset._environment.inputDimensions()[0]\n",
    "trajectory = dataset._environment._trajectory\n",
    "borders = dataset._environment._map == 1\n",
    "trajectory_by_inds = {n: np.zeros(input_size[1:]) + borders for n in to_print}\n",
    "for i in trajectory_by_inds.keys():\n",
    "    for pos_y, pos_x in trajectory[:i]:\n",
    "        trajectory_by_inds[i][pos_y, pos_x] += 1"
   ]
  },
  {
   "cell_type": "code",
   "execution_count": 21,
   "metadata": {},
   "outputs": [
    {
     "data": {
      "text/plain": [
       "<mpl_toolkits.axes_grid1.colorbar.Colorbar at 0x7f73d11cbe48>"
      ]
     },
     "execution_count": 21,
     "metadata": {},
     "output_type": "execute_result"
    },
    {
     "data": {
      "image/png": "[encoded data removed]",
      "text/plain": [
       "<Figure size 1800x864 with 10 Axes>"
      ]
     },
     "metadata": {
      "needs_background": "light"
     },
     "output_type": "display_data"
    }
   ],
   "source": [
    "fig = plt.figure(figsize=(25,12))\n",
    "\n",
    "grid = AxesGrid(fig, 111,\n",
    "                nrows_ncols=(1, len(to_print)),\n",
    "                axes_pad=0.15,\n",
    "                share_all=True,\n",
    "                label_mode=\"L\",\n",
    "                cbar_location=\"right\",\n",
    "                cbar_mode=\"single\")\n",
    "\n",
    "for (n, val), ax in zip(trajectory_by_inds.items(),grid):\n",
    "    ax.title.set_text(str(n))\n",
    "    im = ax.imshow(val, vmin=0, vmax=12)\n",
    "\n",
    "grid.cbar_axes[0].colorbar(im)\n",
    "\n",
    "# for cax in grid.cbar_axes:\n",
    "#     cax.toggle_label(False)\n"
   ]
  },
  {
   "cell_type": "code",
   "execution_count": 12,
   "metadata": {},
   "outputs": [
    {
     "name": "stdout",
     "output_type": "stream",
     "text": [
      "6.0\n",
      "12.0\n",
      "12.0\n",
      "12.0\n"
     ]
    }
   ],
   "source": [
    "current_max = 0\n",
    "for v in trajectory_by_inds.values():\n",
    "    print(np.max(v))"
   ]
  },
  {
   "cell_type": "code",
   "execution_count": null,
   "metadata": {},
   "outputs": [],
   "source": []
  }
 ],
 "metadata": {
  "kernelspec": {
   "display_name": "Python 3",
   "language": "python",
   "name": "python3"
  },
  "language_info": {
   "codemirror_mode": {
    "name": "ipython",
    "version": 3
   },
   "file_extension": ".py",
   "mimetype": "text/x-python",
   "name": "python",
   "nbconvert_exporter": "python",
   "pygments_lexer": "ipython3",
   "version": "3.6.9"
  }
 },
 "nbformat": 4,
 "nbformat_minor": 2
}
